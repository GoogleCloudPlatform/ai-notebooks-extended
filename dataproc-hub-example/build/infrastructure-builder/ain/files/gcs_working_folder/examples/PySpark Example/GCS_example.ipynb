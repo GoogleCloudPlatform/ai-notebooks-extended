{
 "cells": [
  {
   "cell_type": "markdown",
   "metadata": {},
   "source": [
    "# Operate on GCS data using PySpark\n",
    "\n",
    "The command given below will read data from a GCS file, do some opearations on it and then save the result again on a GCS folder."
   ]
  },
  {
   "cell_type": "code",
   "execution_count": null,
   "metadata": {},
   "outputs": [],
   "source": [
    "# Pass the input file name from the GCS\n",
    "input_file = \"gs://my/GCS/input/file.read\"\n",
    "output_file = \"gs://my/GCS/output/file.write\""
   ]
  },
  {
   "cell_type": "code",
   "execution_count": null,
   "metadata": {},
   "outputs": [],
   "source": [
    "lines = sc.textFile(input_file)\n",
    "words = lines.flatMap(lambda line: line.split())\n",
    "wordCounts = words.map(lambda word: (word, 1)).reduceByKey(lambda count1, count2: count1 + count2)\n",
    "wordCounts.saveAsTextFile(output_file)"
   ]
  }
 ],
 "metadata": {
  "kernelspec": {
   "display_name": "PySpark",
   "language": "",
   "name": "pysparkkernel"
  },
  "language_info": {
   "codemirror_mode": {
    "name": "python",
    "version": 2
   },
   "mimetype": "text/x-python",
   "name": "pyspark",
   "pygments_lexer": "python2"
  }
 },
 "nbformat": 4,
 "nbformat_minor": 4
}
