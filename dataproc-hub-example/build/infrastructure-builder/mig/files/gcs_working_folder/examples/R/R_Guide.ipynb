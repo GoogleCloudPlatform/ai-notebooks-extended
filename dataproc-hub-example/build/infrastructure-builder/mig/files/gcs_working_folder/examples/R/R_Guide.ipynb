{
 "cells": [
  {
   "cell_type": "markdown",
   "metadata": {},
   "source": [
    "# R Guide\n",
    "\n",
    "The purpose of this guide is to provide data scientists and engineers adequate resources to get started with coding in R using Google Cloud Platform Data products like GCS, Cloud SQL and BigQuery.\n",
    "\n",
    "\n",
    "## Google Cloud Storage\n",
    "\n",
    "Refer to the [googleCloudStorageR](https://cran.r-project.org/web/packages/googleCloudStorageR/vignettes/googleCloudStorageR.html) package introduction here to learn more about the R package used to access GCS resources. \n",
    "\n",
    "__________________________________________________________________________________________________________________________________________________\n",
    "\n",
    "## BigQuery\n",
    "\n",
    "Refer to the [bigrquery](https://bigrquery.r-dbi.org/) R package documentation to learn more about accessing BigQuery resources in R. The guide also provides examples to make authenticated user calls to the BigQuery service and also ways to read/write data from/to BQ.\n",
    "\n",
    "__________________________________________________________________________________________________________________________________________________\n",
    "\n",
    "## Cloud SQL\n",
    "\n",
    "Refer to the [Using R with Google Cloud SQL for MySQL](https://cloud.google.com/blog/products/gcp/google-cloud-platform-for-data-scientists-using-r-with-google-cloud-sql-for-mysql) guide by GCP to get an introduction to accessing MySQL on a Cloud SQL instance.\n",
    "\n",
    "__________________________________________________________________________________________________________________________________________________\n",
    "\n",
    "## Installing R packages\n",
    "\n",
    "- R packages can be installed using JupyterLab notebooks or on the command line. Below are examples of each using the standard R repo.\n",
    "\n",
    "- R packages can be installed through command file using the below command: \\\n",
    "`R -e \"install.packages('abind', dependencies=TRUE, repos='http://cran.rstudio.com/')\"` \\\n",
    "\n",
    "- To install R package from the JupyterLab notebook itself, use the below command: \\\n",
    "`install.packages('abind', dependencies=TRUE, repos='http://cran.rstudio.com/')\"`\n",
    "\n",
    "__________________________________________________________________________________________________________________________________________________\n",
    "\n",
    "## Authenticating R connection to GCS, Bigquery and Cloud SQL\n",
    "\n",
    "### Google Cloud Storage\n",
    "\n",
    "The best method for authentication is to use your own Google Cloud Project. You can specify the location of a service account JSON file taken from your Google Project:"
   ]
  },
  {
   "cell_type": "code",
   "execution_count": null,
   "metadata": {},
   "outputs": [],
   "source": [
    "Sys.setenv(\"GCS_AUTH_FILE\" = \"/fullpath/to/auth.json\")"
   ]
  },
  {
   "cell_type": "markdown",
   "metadata": {},
   "source": [
    "This file will then used for authentication via gcs_auth() when you load the library:"
   ]
  },
  {
   "cell_type": "code",
   "execution_count": null,
   "metadata": {},
   "outputs": [],
   "source": [
    "## GCS_AUTH_FILE set so auto-authentication\n",
    "library(googleCloudStorageR)\n",
    "\n",
    "gcs_get_bucket(\"your-bucket\")"
   ]
  },
  {
   "cell_type": "markdown",
   "metadata": {},
   "source": [
    "### BigQuery\n",
    "\n",
    "When using bigrquery interactively, you’ll be prompted to [authorize bigrquery](https://developers.google.com/bigquery/authorization) in the browser. Your token will be cached across sessions inside the folder `~/.R/gargle/gargle-oauth/`, by default. For non-interactive usage, it is preferred to use a service account token and put it into force via \n",
    "[`bq_auth(path = \"/path/to/your/service-account.json\")`](https://bigrquery.r-dbi.org/reference/bq_auth.html). More places to learn about auth:\n",
    "\n",
    "- Help for [`bigrquery::bq_auth()`](https://bigrquery.r-dbi.org/reference/bq_auth.html).\n",
    "- [How gargle gets tokens.](https://gargle.r-lib.org/articles/how-gargle-gets-tokens.html)\n",
    " - bigrquery obtains a token with [`gargle::token_fetch()`](https://gargle.r-lib.org/reference/token_fetch.html), which supports a variety of token flows. This article provides full details, such as how to take advantage of Application Default Credentials or service accounts on GCE VMs.\n",
    "- [Non-interactive auth](https://gargle.r-lib.org/articles/non-interactive-auth.html). Explains how to set up a project when code must run without any user interaction.\n",
    "- [How to get your own API credentials](https://gargle.r-lib.org/articles/get-api-credentials.html). Instructions for getting your own OAuth client (or “app”) or service account token. \\\n",
    "Note that bigrquery requests permission to modify your data; but it will never do so unless you explicitly request it (e.g. by calling bq_table_delete() or bq_table_upload()). Our Privacy policy provides more info.\n",
    "\n"
   ]
  },
  {
   "cell_type": "markdown",
   "metadata": {},
   "source": [
    "### Cloud SQL\n",
    "\n",
    "Refer to [R with Cloud SQL for MySQL](https://cloud.google.com/blog/products/gcp/google-cloud-platform-for-data-scientists-using-r-with-google-cloud-sql-for-mysql) documentation."
   ]
  },
  {
   "cell_type": "code",
   "execution_count": null,
   "metadata": {},
   "outputs": [],
   "source": [
    "# Load the DBI library\n",
    "library(DBI)\n",
    "# Helper for getting new connection to Cloud SQL\n",
    "getSqlConnection <- function(){\n",
    "  con <-\n",
    "    dbConnect(\n",
    "      RMySQL::MySQL(),\n",
    "      username = 'username',\n",
    "      password = 'password',\n",
    "      host = '127.0.0.1',\n",
    "      dbname = 'example'\n",
    "    ) # TODO: use a configuration group `group = \"my-db\")`\n",
    "  return(con)\n",
    "}"
   ]
  }
 ],
 "metadata": {
  "kernelspec": {
   "display_name": "R",
   "language": "R",
   "name": "ir"
  },
  "language_info": {
   "codemirror_mode": "r",
   "file_extension": ".r",
   "mimetype": "text/x-r-source",
   "name": "R",
   "pygments_lexer": "r",
   "version": "3.6.0"
  }
 },
 "nbformat": 4,
 "nbformat_minor": 4
}
