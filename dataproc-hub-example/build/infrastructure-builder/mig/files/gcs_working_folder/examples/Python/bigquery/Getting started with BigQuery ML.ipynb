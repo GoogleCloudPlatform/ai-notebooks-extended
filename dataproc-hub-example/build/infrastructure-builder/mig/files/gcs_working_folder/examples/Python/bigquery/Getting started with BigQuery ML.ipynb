{
 "cells": [
  {
   "cell_type": "markdown",
   "metadata": {},
   "source": [
    "# Getting started with BigQuery ML\n",
    "\n",
    "BigQuery ML enables users to create and execute machine learning models in BigQuery using SQL queries. The goal is to democratize machine learning by enabling SQL practitioners to build models using their existing tools and to increase development speed by eliminating the need for data movement.\n",
    "\n",
    "In this tutorial, you use the sample [Google Analytics sample dataset for BigQuery](https://support.google.com/analytics/answer/7586738?hl=en&ref_topic=3416089) to create a model that predicts whether a website visitor will make a transaction. For information on the schema of the Analytics dataset, see [BigQuery export schema](https://support.google.com/analytics/answer/3437719) in the Google Analytics Help Center.\n",
    "\n",
    "\n",
    "## Objectives\n",
    "In this tutorial, you use:\n",
    "\n",
    "+ BigQuery ML to create a binary logistic regression model using the `CREATE MODEL` statement\n",
    "+ The `ML.EVALUATE` function to evaluate the ML model\n",
    "+ The `ML.PREDICT` function to make predictions using the ML model"
   ]
  },
  {
   "cell_type": "markdown",
   "metadata": {},
   "source": [
    "## Create your dataset\n",
    "\n",
    "Enter the following code to import the BigQuery Python client library and initialize a client. The BigQuery client is used to send and receive messages from the BigQuery API."
   ]
  },
  {
   "cell_type": "code",
   "execution_count": null,
   "metadata": {},
   "outputs": [],
   "source": [
    "from google.cloud import bigquery\n",
    "\n",
    "client = bigquery.Client(location=\"US\")"
   ]
  },
  {
   "cell_type": "markdown",
   "metadata": {},
   "source": [
    "Next, you create a BigQuery dataset to store your ML model. Run the following to create your dataset:"
   ]
  },
  {
   "cell_type": "code",
   "execution_count": null,
   "metadata": {},
   "outputs": [],
   "source": [
    "dataset = client.create_dataset(\"bqml_tutorial\")"
   ]
  },
  {
   "cell_type": "markdown",
   "metadata": {},
   "source": [
    "## Create your model\n",
    "\n",
    "Next, you create a logistic regression model using the Google Analytics sample\n",
    "dataset for BigQuery. The model is used to predict whether a\n",
    "website visitor will make a transaction. The standard SQL query uses a\n",
    "`CREATE MODEL` statement to create and train the model. Standard SQL is the\n",
    "default query syntax for the BigQuery python client library.\n",
    "\n",
    "The BigQuery python client library provides a cell magic,\n",
    "`%%bigquery`, which runs a SQL query and returns the results as a Pandas\n",
    "`DataFrame`.\n",
    "\n",
    "To run the `CREATE MODEL` query to create and train your model:"
   ]
  },
  {
   "cell_type": "code",
   "execution_count": null,
   "metadata": {},
   "outputs": [],
   "source": [
    "%%bigquery\n",
    "CREATE OR REPLACE MODEL `bqml_tutorial.sample_model`\n",
    "OPTIONS(model_type='logistic_reg') AS\n",
    "SELECT\n",
    "  IF(totals.transactions IS NULL, 0, 1) AS label,\n",
    "  IFNULL(device.operatingSystem, \"\") AS os,\n",
    "  device.isMobile AS is_mobile,\n",
    "  IFNULL(geoNetwork.country, \"\") AS country,\n",
    "  IFNULL(totals.pageviews, 0) AS pageviews\n",
    "FROM\n",
    "  `bigquery-public-data.google_analytics_sample.ga_sessions_*`\n",
    "WHERE\n",
    "  _TABLE_SUFFIX BETWEEN '20160801' AND '20170630'"
   ]
  },
  {
   "cell_type": "markdown",
   "metadata": {},
   "source": [
    "The query takes several minutes to complete. After the first iteration is\n",
    "complete, your model (`sample_model`) appears in the navigation panel of the\n",
    "BigQuery web UI. Because the query uses a `CREATE MODEL` statement to create a\n",
    "table, you do not see query results. The output is an empty `DataFrame`."
   ]
  },
  {
   "cell_type": "markdown",
   "metadata": {},
   "source": [
    "## Get training statistics\n",
    "\n",
    "To see the results of the model training, you can use the\n",
    "[`ML.TRAINING_INFO`](https://cloud.google.com/bigquery/docs/reference/standard-sql/bigqueryml-syntax-train)\n",
    "function, or you can view the statistics in the BigQuery web UI. This functionality\n",
    "is not currently available in the BigQuery Classic web UI.\n",
    "In this tutorial, you use the `ML.TRAINING_INFO` function.\n",
    "\n",
    "A machine learning algorithm builds a model by examining many examples and\n",
    "attempting to find a model that minimizes loss. This process is called empirical\n",
    "risk minimization.\n",
    "\n",
    "Loss is the penalty for a bad prediction &mdash; a number indicating\n",
    "how bad the model's prediction was on a single example. If the model's\n",
    "prediction is perfect, the loss is zero; otherwise, the loss is greater. The\n",
    "goal of training a model is to find a set of weights that have low\n",
    "loss, on average, across all examples.\n",
    "\n",
    "To see the model training statistics that were generated when you ran the\n",
    "`CREATE MODEL` query:"
   ]
  },
  {
   "cell_type": "code",
   "execution_count": null,
   "metadata": {},
   "outputs": [],
   "source": [
    "%%bigquery\n",
    "SELECT\n",
    "  *\n",
    "FROM\n",
    "  ML.TRAINING_INFO(MODEL `bqml_tutorial.sample_model`)"
   ]
  },
  {
   "cell_type": "markdown",
   "metadata": {},
   "source": [
    "Note: Typically, it is not a best practice to use a `SELECT *` query. Because the model output is a small table, this query does not process a large amount of data. As a result, the cost is minimal."
   ]
  },
  {
   "cell_type": "markdown",
   "metadata": {},
   "source": [
    "When the query is complete, the results appear below the query. The results should look like the following:\n",
    "\n",
    "![Training statistics table](./resources/training-statistics.png)"
   ]
  },
  {
   "cell_type": "markdown",
   "metadata": {},
   "source": [
    "The `loss` column represents the loss metric calculated after the given iteration\n",
    "on the training dataset. Since you performed a logistic regression, this column\n",
    "is the [log loss](https://en.wikipedia.org/wiki/Cross_entropy#Cross-entropy_error_function_and_logistic_regression).\n",
    "The `eval_loss` column is the same loss metric calculated on\n",
    "the holdout dataset (data that is held back from training to validate the model).\n",
    "\n",
    "For more details on the `ML.TRAINING_INFO` function, see the\n",
    "[BigQuery ML syntax reference](https://cloud.google.com/bigquery/docs/reference/standard-sql/bigqueryml-syntax-train)."
   ]
  },
  {
   "cell_type": "markdown",
   "metadata": {},
   "source": [
    "## Evaluate your model\n",
    "\n",
    "After creating your model, you evaluate the performance of the classifier using\n",
    "the [`ML.EVALUATE`](https://cloud.google.com/bigquery/docs/reference/standard-sql/bigqueryml-syntax-evaluate)\n",
    "function. You can also use the [`ML.ROC_CURVE`](https://cloud.google.com/bigquery/docs/reference/standard-sql/bigqueryml-syntax-roc)\n",
    "function for logistic regression specific metrics.\n",
    "\n",
    "A classifier is one of a set of enumerated target values for a label. For\n",
    "example, in this tutorial you are using a binary classification model that\n",
    "detects transactions. The two classes are the values in the `label` column:\n",
    "`0` (no transactions) and not `1` (transaction made).\n",
    "\n",
    "To run the `ML.EVALUATE` query that evaluates the model:"
   ]
  },
  {
   "cell_type": "code",
   "execution_count": null,
   "metadata": {},
   "outputs": [],
   "source": [
    "%%bigquery\n",
    "SELECT\n",
    "  *\n",
    "FROM ML.EVALUATE(MODEL `bqml_tutorial.sample_model`, (\n",
    "  SELECT\n",
    "    IF(totals.transactions IS NULL, 0, 1) AS label,\n",
    "    IFNULL(device.operatingSystem, \"\") AS os,\n",
    "    device.isMobile AS is_mobile,\n",
    "    IFNULL(geoNetwork.country, \"\") AS country,\n",
    "    IFNULL(totals.pageviews, 0) AS pageviews\n",
    "  FROM\n",
    "    `bigquery-public-data.google_analytics_sample.ga_sessions_*`\n",
    "  WHERE\n",
    "    _TABLE_SUFFIX BETWEEN '20170701' AND '20170801'))"
   ]
  },
  {
   "cell_type": "markdown",
   "metadata": {},
   "source": [
    "When the query is complete, the results appear below the query. The\n",
    "results should look like the following:\n",
    "\n",
    "![Model evaluation results table](./resources/model-evaluation.png)"
   ]
  },
  {
   "cell_type": "markdown",
   "metadata": {},
   "source": [
    "Because you performed a logistic regression, the results include the following\n",
    "columns:\n",
    "\n",
    "+ [`precision`](https://developers.google.com/machine-learning/glossary/#precision)\n",
    "+ [`recall`](https://developers.google.com/machine-learning/glossary/#recall)\n",
    "+ [`accuracy`](https://developers.google.com/machine-learning/glossary/#accuracy)\n",
    "+ [`f1_score`](https://en.wikipedia.org/wiki/F1_score)\n",
    "+ [`log_loss`](https://developers.google.com/machine-learning/glossary/#Log_Loss)\n",
    "+ [`roc_auc`](https://developers.google.com/machine-learning/glossary/#AUC)\n"
   ]
  },
  {
   "cell_type": "markdown",
   "metadata": {},
   "source": [
    "## Use your model to predict outcomes\n",
    "\n",
    "Now that you have evaluated your model, the next step is to use it to predict\n",
    "outcomes. You use your model to predict the number of transactions made by\n",
    "website visitors from each country. And you use it to predict purchases per user.\n",
    "\n",
    "To run the query that uses the model to predict the number of transactions:"
   ]
  },
  {
   "cell_type": "code",
   "execution_count": null,
   "metadata": {},
   "outputs": [],
   "source": [
    "%%bigquery\n",
    "SELECT\n",
    "  country,\n",
    "  SUM(predicted_label) as total_predicted_purchases\n",
    "FROM ML.PREDICT(MODEL `bqml_tutorial.sample_model`, (\n",
    "  SELECT\n",
    "    IFNULL(device.operatingSystem, \"\") AS os,\n",
    "    device.isMobile AS is_mobile,\n",
    "    IFNULL(totals.pageviews, 0) AS pageviews,\n",
    "    IFNULL(geoNetwork.country, \"\") AS country\n",
    "  FROM\n",
    "    `bigquery-public-data.google_analytics_sample.ga_sessions_*`\n",
    "  WHERE\n",
    "    _TABLE_SUFFIX BETWEEN '20170701' AND '20170801'))\n",
    "  GROUP BY country\n",
    "  ORDER BY total_predicted_purchases DESC\n",
    "  LIMIT 10"
   ]
  },
  {
   "cell_type": "markdown",
   "metadata": {},
   "source": [
    "When the query is complete, the results appear below the query. The\n",
    "results should look like the following. Because model training is not\n",
    "deterministic, your results may differ.\n",
    "\n",
    "![Model predictions table](./resources/transaction-predictions.png)"
   ]
  },
  {
   "cell_type": "markdown",
   "metadata": {},
   "source": [
    "In the next example, you try to predict the number of transactions each website\n",
    "visitor will make. This query is identical to the previous query except for the\n",
    "`GROUP BY` clause. Here the `GROUP BY` clause &mdash; `GROUP BY fullVisitorId`\n",
    "&mdash; is used to group the results by visitor ID.\n",
    "\n",
    "To run the query that predicts purchases per user:"
   ]
  },
  {
   "cell_type": "code",
   "execution_count": null,
   "metadata": {},
   "outputs": [],
   "source": [
    "%%bigquery\n",
    "SELECT\n",
    "  fullVisitorId,\n",
    "  SUM(predicted_label) as total_predicted_purchases\n",
    "FROM ML.PREDICT(MODEL `bqml_tutorial.sample_model`, (\n",
    "  SELECT\n",
    "    IFNULL(device.operatingSystem, \"\") AS os,\n",
    "    device.isMobile AS is_mobile,\n",
    "    IFNULL(totals.pageviews, 0) AS pageviews,\n",
    "    IFNULL(geoNetwork.country, \"\") AS country,\n",
    "    fullVisitorId\n",
    "  FROM\n",
    "    `bigquery-public-data.google_analytics_sample.ga_sessions_*`\n",
    "  WHERE\n",
    "    _TABLE_SUFFIX BETWEEN '20170701' AND '20170801'))\n",
    "  GROUP BY fullVisitorId\n",
    "  ORDER BY total_predicted_purchases DESC\n",
    "  LIMIT 10"
   ]
  },
  {
   "cell_type": "markdown",
   "metadata": {},
   "source": [
    "When the query is complete, the results appear below the query. The\n",
    "results should look like the following:\n",
    "\n",
    "![Purchase predictions table](./resources/purchase-predictions.png)"
   ]
  },
  {
   "cell_type": "markdown",
   "metadata": {},
   "source": [
    "## Cleaning up\n",
    "\n",
    "To delete the resources created by this tutorial, execute the following code to delete the dataset and its contents:"
   ]
  },
  {
   "cell_type": "code",
   "execution_count": null,
   "metadata": {},
   "outputs": [],
   "source": [
    "client.delete_dataset(dataset, delete_contents=True)"
   ]
  }
 ],
 "metadata": {
  "kernelspec": {
   "display_name": "Python 3",
   "language": "python",
   "name": "python3"
  },
  "language_info": {
   "codemirror_mode": {
    "name": "ipython",
    "version": 3
   },
   "file_extension": ".py",
   "mimetype": "text/x-python",
   "name": "python",
   "nbconvert_exporter": "python",
   "pygments_lexer": "ipython3",
   "version": "3.7.3"
  }
 },
 "nbformat": 4,
 "nbformat_minor": 4
}
