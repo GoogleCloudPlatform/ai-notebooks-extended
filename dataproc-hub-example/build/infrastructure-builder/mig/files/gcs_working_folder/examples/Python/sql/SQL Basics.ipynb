{
 "cells": [
  {
   "cell_type": "markdown",
   "metadata": {},
   "source": [
    "# Cloud SQL basics\n",
    "\n",
    "[Cloud SQL](https://cloud.google.com/sql/) is a fully-managed database service that makes it easy to set up, maintain, manage, and administer your relational databases on Google Cloud Platform."
   ]
  },
  {
   "cell_type": "markdown",
   "metadata": {},
   "source": [
    "## Install and Import the dependencies\n",
    "!pip install pymysql \\\n",
    "`import pymysql`\n",
    "\n",
    "## Create Cloud SQL Instance\n",
    "- Unlike Bigquery and GCS, Cloud SQL is not a managed service and requires creation from the user. The user will be billed only for the resources used.\n",
    "- Follow the steps provided [here](https://cloud.google.com/sql/docs/mysql/create-instance) to create a new Cloud SQL instance in your project.\n",
    "- Once the Cloud SQL instance starts running do following from GCP Console:\n",
    "1. Create a new user, remember the username and password. \\\n",
    "2. Create a new database. \\\n",
    "3. Save the Instance Connection name from Instance description. \\"
   ]
  },
  {
   "cell_type": "markdown",
   "metadata": {},
   "source": [
    "## Download SQL proxy\n",
    "The [Cloud SQL Proxy](https://cloud.google.com/sql/docs/mysql/sql-proxy) provides secure access to your Cloud SQL Second Generation instances without having to allowlist IP addresses or configure SSL."
   ]
  },
  {
   "cell_type": "code",
   "execution_count": null,
   "metadata": {},
   "outputs": [],
   "source": [
    "!wget https://dl.google.com/cloudsql/cloud_sql_proxy.linux.amd64 -O cloud_sql_proxy\n",
    "!chmod +x cloud_sql_proxy"
   ]
  },
  {
   "cell_type": "markdown",
   "metadata": {},
   "source": [
    "Invoke Cloud SQL proxy without using any authentication"
   ]
  },
  {
   "cell_type": "code",
   "execution_count": null,
   "metadata": {},
   "outputs": [],
   "source": [
    "!./cloud_sql_proxy -instances=<INSTANCE_CONNECTION_NAME>=tcp:3306 &"
   ]
  },
  {
   "cell_type": "markdown",
   "metadata": {},
   "source": [
    "Invoke Cloud SQL proxy using any Service account JSON"
   ]
  },
  {
   "cell_type": "code",
   "execution_count": null,
   "metadata": {},
   "outputs": [],
   "source": [
    "!./cloud_sql_proxy -instances=<INSTANCE_CONNECTION_NAME>=tcp:3306 \\\n",
    "                  -credential_file=<PATH_TO_KEY_FILE> &"
   ]
  },
  {
   "cell_type": "markdown",
   "metadata": {},
   "source": [
    "## Initialize a connection\n",
    "\n",
    "To use the Cloud SQL client library, start by initializing a `pymysql` connection. The connection is used to establish a bridge between your machine running JupyterLab and Cloud SQL instance\n",
    "\n",
    "Run the following to create a connection:"
   ]
  },
  {
   "cell_type": "code",
   "execution_count": null,
   "metadata": {},
   "outputs": [],
   "source": [
    "import pymysql\n",
    "\n",
    "# TODO(developer): \n",
    "# Change USERNAME and PASSWORD to the user and password created on Cloud SQL instance\n",
    "# Set DB to the name of the database to be connected to\n",
    "\n",
    "connection = pymysql.connect(host='127.0.0.1',\n",
    "                             user='USERNAME',\n",
    "                             password='PASSWORD',\n",
    "                             db='DB')"
   ]
  },
  {
   "cell_type": "markdown",
   "metadata": {},
   "source": [
    "Create a [cursor](https://pymysql.readthedocs.io/en/latest/modules/cursors.html) for this connection to interact with the database."
   ]
  },
  {
   "cell_type": "code",
   "execution_count": null,
   "metadata": {},
   "outputs": [],
   "source": [
    "mycursor = connection.cursor()"
   ]
  },
  {
   "cell_type": "markdown",
   "metadata": {},
   "source": [
    "## Create a new table"
   ]
  },
  {
   "cell_type": "code",
   "execution_count": null,
   "metadata": {},
   "outputs": [],
   "source": [
    "mycursor.execute(\"create table EMPLOYEE ( \\\n",
    "   EMP_ID bigint not null, \\\n",
    "   EMP_NAME varchar(50) not null, \\\n",
    "   EMP_NO varchar(20) not null, \\\n",
    "   HIRE_DATE date not null, \\\n",
    "   IMAGE longblob, \\\n",
    "   JOB varchar(30) not null, \\\n",
    "   SALARY float not null, \\\n",
    "   DEPT_ID integer not null, \\\n",
    "   MNG_ID bigint, \\\n",
    "   primary key (EMP_ID), \\\n",
    "   unique (EMP_NO) \\\n",
    ");\")\n",
    "mycursor.fetchall()\n",
    "print(mycursor.description)"
   ]
  },
  {
   "cell_type": "markdown",
   "metadata": {},
   "source": [
    "## Insert value in the table"
   ]
  },
  {
   "cell_type": "code",
   "execution_count": null,
   "metadata": {},
   "outputs": [],
   "source": [
    "mycursor.execute(\"insert into EMPLOYEE (EMP_ID, EMP_NAME, EMP_NO, HIRE_DATE, JOB, SALARY, DEPT_ID, MNG_ID) \\\n",
    "values (7839, 'KING', 'E7839', Str_To_Date('17-11-1981', '%d-%m-%Y'), 'PRESIDENT', 5000, 10, null);\")"
   ]
  },
  {
   "cell_type": "markdown",
   "metadata": {},
   "source": [
    "## Read value from the table"
   ]
  },
  {
   "cell_type": "code",
   "execution_count": null,
   "metadata": {},
   "outputs": [],
   "source": [
    "mycursor.execute(\"SELECT * FROM EMPLOYEE\")\n",
    "mycursor.fetchall()"
   ]
  },
  {
   "cell_type": "markdown",
   "metadata": {},
   "source": [
    "## Do other SQL operations using cursor\n",
    "- The cursor provides the execute() method to execute any SQL query\n",
    "- Cursor also provides fetchone() and fetchall() methods to display either just one row or all the rows from the result of the query, if any"
   ]
  },
  {
   "cell_type": "code",
   "execution_count": null,
   "metadata": {},
   "outputs": [],
   "source": [
    "#Execute a SQL command\n",
    "mycursor.execute(SQL_COMMAND)\n",
    "# Display all the rows from output of the previous execution using fetchall()\n",
    "mycursor.fetchall()\n",
    "# Display only one row from output of the previous execution using fetchall()\n",
    "mycursor.fetchone()"
   ]
  }
 ],
 "metadata": {
  "kernelspec": {
   "display_name": "Python 3",
   "language": "python",
   "name": "python3"
  },
  "language_info": {
   "codemirror_mode": {
    "name": "ipython",
    "version": 3
   },
   "file_extension": ".py",
   "mimetype": "text/x-python",
   "name": "python",
   "nbconvert_exporter": "python",
   "pygments_lexer": "ipython3",
   "version": "3.7.3"
  }
 },
 "nbformat": 4,
 "nbformat_minor": 4
}